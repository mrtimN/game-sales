{
  "cells": [
    {
      "cell_type": "code",
      "execution_count": 1,
      "metadata": {
        "id": "UGXyeck3i1-I"
      },
      "outputs": [],
      "source": [
        "import pandas as pd\n",
        "import warnings\n",
        "\n",
        "# ignore all warnings\n",
        "warnings.filterwarnings(\"ignore\")\n",
        "\n",
        "# load dataset\n",
        "df = pd.read_csv('data/game_sales_2016.csv')\n",
        "\n",
        "#load dataset in cle\n",
        "\n",
        "# split dataset to not touch first 1000 entries\n",
        "df1 = df.head(1000)\n",
        "df2 = df.tail(15719)\n",
        "\n",
        "# drop all rows in the lower sub dataset, that have no scores at all\n",
        "columns_to_check = ['Critic_Score', 'Critic_Count', 'User_Score', 'User_Count', ]\n",
        "df2.dropna(subset=columns_to_check, how='all', inplace=True)\n",
        "\n",
        "# combine first 1000 and cleaned lower sub dataset\n",
        "df = pd.concat([df1, df2])\n",
        "\n",
        "# reset the index of combined datasets\n",
        "df = df.reset_index(drop=True)\n",
        "# rename columns\n",
        "df.columns = df.columns.map(lambda col: col.lower().strip())\n",
        "df.columns = df.columns.map(lambda col: col.replace(\" \", \"_\"))\n",
        "df.loc[df['user_score']=='tbd', 'user_score'] = None\n",
        "df['user_score'] = df['user_score'].astype(float)\n",
        "\n",
        "df.loc[df['year_of_release']==None, 'year_of_release'] = 0\n",
        "df['year_of_release'] = df['year_of_release'].fillna(0).astype(int)\n",
        "df['year_of_release'] = df['year_of_release'].astype(int)\n",
        "\n"
      ]
    },
    {
      "cell_type": "code",
      "source": [
        "#generate a .csv with all the uique publishers in it\n",
        "\n",
        "df[\"publisher\"].unique()\n",
        "publisher_df=pd.DataFrame({\"publisher\":df[\"publisher\"].unique()})\n",
        "publisher_df.to_csv(\"data/publishers.csv\")"
      ],
      "metadata": {
        "id": "O75vmCo6lXpa"
      },
      "execution_count": 3,
      "outputs": []
    },
    {
      "cell_type": "code",
      "execution_count": 4,
      "metadata": {
        "id": "Usa1XU75i1-L"
      },
      "outputs": [],
      "source": [
        "#generate the same for platforms\n",
        "df[\"platform\"].unique()\n",
        "platform_df=pd.DataFrame({\"platform\":df[\"platform\"].unique()})\n",
        "platform_df.to_csv(\"data/platforms.csv\")\n"
      ]
    },
    {
      "cell_type": "code",
      "source": [
        "# same for developer\n",
        "developer_df=pd.DataFrame({\"developer\":df['developer'].unique()})\n",
        "developer_df.to_csv(\"data/developer.csv\")"
      ],
      "metadata": {
        "id": "0KpYssCsm4zE"
      },
      "execution_count": 5,
      "outputs": []
    },
    {
      "cell_type": "code",
      "source": [
        "#same for genres\n",
        "genres_df=pd.DataFrame({\"genre\":df['genre'].unique()})\n",
        "genres_df.to_csv(\"data/genre.csv\")"
      ],
      "metadata": {
        "id": "O2_jSwYhncCp"
      },
      "execution_count": 6,
      "outputs": []
    },
    {
      "cell_type": "code",
      "source": [
        "#same for ratings\n",
        "df_rating=pd.DataFrame({\"rating\":df['rating'].unique()})\n",
        "df_rating.to_csv(\"data/rating.csv\")"
      ],
      "metadata": {
        "id": "wNiJg6nlnX7q"
      },
      "execution_count": 7,
      "outputs": []
    },
    {
      "cell_type": "code",
      "source": [
        "#replace ratings with indexes\n",
        "rating_dict = df_rating.reset_index().set_index('rating')['index'].to_dict()\n",
        "df['rating'] = df['rating'].map(rating_dict)"
      ],
      "metadata": {
        "id": "ri4GR2t5pTy7"
      },
      "execution_count": 8,
      "outputs": []
    },
    {
      "cell_type": "code",
      "source": [
        "# same for genres\n",
        "genre_dict = genres_df.reset_index().set_index('genre')['index'].to_dict()\n",
        "df['genre'] = df['genre'].map(genre_dict)\n"
      ],
      "metadata": {
        "collapsed": true,
        "id": "D3RLpDEZqSp7"
      },
      "execution_count": 9,
      "outputs": []
    },
    {
      "cell_type": "code",
      "source": [
        "developer_dict = developer_df.reset_index().set_index('developer')['index'].to_dict()\n",
        "df['developer'] = df['developer'].map(developer_dict)\n"
      ],
      "metadata": {
        "collapsed": true,
        "id": "6oWJqBrurMxP"
      },
      "execution_count": 10,
      "outputs": []
    },
    {
      "cell_type": "code",
      "source": [
        "platform_dict = platform_df.reset_index().set_index('platform')['index'].to_dict() # Changed 'platform' to 'platforms'\n",
        "df['platform'] = df['platform'].map(platform_dict)"
      ],
      "metadata": {
        "id": "2w8HbFdHroLe"
      },
      "execution_count": 11,
      "outputs": []
    },
    {
      "cell_type": "code",
      "source": [
        "publisher_dict = publisher_df.reset_index().set_index('publisher')['index'].to_dict()  # using 'publisher' as column name\n",
        "df['publisher'] = df['publisher'].map(publisher_dict)"
      ],
      "metadata": {
        "id": "sEBf36war6N-"
      },
      "execution_count": 12,
      "outputs": []
    },
    {
      "cell_type": "code",
      "source": [
        "df.to_csv(\"data/game_data_replaced_with_indexes.csv\")"
      ],
      "metadata": {
        "id": "w0viDIX6r7af"
      },
      "execution_count": 13,
      "outputs": []
    },
    {
      "cell_type": "code",
      "source": [
        "df_filled=df.fillna(0)"
      ],
      "metadata": {
        "id": "vr8_34hdsD9b"
      },
      "execution_count": 14,
      "outputs": []
    },
    {
      "cell_type": "code",
      "source": [
        "df_filled.to_csv(\"data/game_data_filled.csv\")"
      ],
      "metadata": {
        "id": "vgV8rT5d6HG9"
      },
      "execution_count": 15,
      "outputs": []
    },
    {
      "cell_type": "code",
      "source": [
        "import matplotlib.pyplot as plt\n",
        "import pandas as pd"
      ],
      "metadata": {
        "id": "VsX9soZ2cAnj"
      },
      "execution_count": 18,
      "outputs": []
    },
    {
      "cell_type": "code",
      "source": [
        "df_criticscore=pd.read_csv(\"data/criticscore_sales.csv\")\n",
        "plt.scatter(df_criticscore[\"critic_score\"],df_criticscore[\"global_sales\"])\n",
        "plt.xlabel(\"Critic Score\")\n",
        "plt.ylabel(\"Global Sales\")\n",
        "#df_criticscore"
      ],
      "metadata": {
        "colab": {
          "base_uri": "https://localhost:8080/",
          "height": 466
        },
        "id": "Oq2dREzFcbDc",
        "outputId": "e0808db0-7965-4c49-8e8e-189d4c6126b0"
      },
      "execution_count": 43,
      "outputs": [
        {
          "output_type": "execute_result",
          "data": {
            "text/plain": [
              "Text(0, 0.5, 'Global Sales')"
            ]
          },
          "metadata": {},
          "execution_count": 43
        },
        {
          "output_type": "display_data",
          "data": {
            "text/plain": [
              "<Figure size 640x480 with 1 Axes>"
            ],
            "image/png": "[encoded data removed]"
          },
          "metadata": {}
        }
      ]
    },
    {
      "cell_type": "code",
      "source": [
        "\n",
        "df_userscore=pd.read_csv(\"data/userscore_sales.csv\")\n",
        "plt.scatter(df_userscore[\"user_score\"], df_userscore[\"global_sales\"])\n",
        "plt.xlabel(\"User Score\")\n",
        "plt.ylabel(\"Global Sales\")"
      ],
      "metadata": {
        "colab": {
          "base_uri": "https://localhost:8080/",
          "height": 466
        },
        "id": "xzCX2WQ1dCPr",
        "outputId": "9032aad9-2cee-4904-c4ee-4e01783cb151"
      },
      "execution_count": 42,
      "outputs": [
        {
          "output_type": "execute_result",
          "data": {
            "text/plain": [
              "Text(0, 0.5, 'Global Sales')"
            ]
          },
          "metadata": {},
          "execution_count": 42
        },
        {
          "output_type": "display_data",
          "data": {
            "text/plain": [
              "<Figure size 640x480 with 1 Axes>"
            ],
            "image/png": "[encoded data removed]"
          },
          "metadata": {}
        }
      ]
    }
  ],
  "metadata": {
    "kernelspec": {
      "display_name": "Python [conda env:base] *",
      "language": "python",
      "name": "conda-base-py"
    },
    "language_info": {
      "codemirror_mode": {
        "name": "ipython",
        "version": 3
      },
      "file_extension": ".py",
      "mimetype": "text/x-python",
      "name": "python",
      "nbconvert_exporter": "python",
      "pygments_lexer": "ipython3",
      "version": "3.12.7"
    },
    "colab": {
      "provenance": []
    }
  },
  "nbformat": 4,
  "nbformat_minor": 0
}