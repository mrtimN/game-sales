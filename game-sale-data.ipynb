{
 "cells": [
  {
   "cell_type": "code",
   "execution_count": 81,
   "metadata": {},
   "outputs": [
    {
     "data": {
      "text/plain": [
       "name                object\n",
       "platform            object\n",
       "year_of_release      int64\n",
       "genre               object\n",
       "publisher           object\n",
       "na_sales           float64\n",
       "eu_sales           float64\n",
       "jp_sales           float64\n",
       "other_sales        float64\n",
       "global_sales       float64\n",
       "critic_score       float64\n",
       "critic_count       float64\n",
       "user_score         float64\n",
       "user_count         float64\n",
       "developer           object\n",
       "rating              object\n",
       "dtype: object"
      ]
     },
     "execution_count": 81,
     "metadata": {},
     "output_type": "execute_result"
    }
   ],
   "source": [
    "import pandas as pd\n",
    "import warnings\n",
    "\n",
    "# ignore all warnings\n",
    "warnings.filterwarnings(\"ignore\")\n",
    "\n",
    "# load dataset\n",
    "df = pd.read_csv('data/game_sales_2016.csv')\n",
    "\n",
    "# split dataset to not touch first 1000 entries\n",
    "df1 = df.head(1000)\n",
    "df2 = df.tail(15719)\n",
    "\n",
    "# drop all rows in the lower sub dataset, that have no scores at all\n",
    "columns_to_check = ['Critic_Score', 'Critic_Count', 'User_Score', 'User_Count', ]\n",
    "df2.dropna(subset=columns_to_check, how='all', inplace=True)\n",
    "\n",
    "# combine first 1000 and cleaned lower sub dataset\n",
    "df = pd.concat([df1, df2])\n",
    "\n",
    "# reset the index of combined datasets\n",
    "df = df.reset_index(drop=True)\n",
    "# rename columns\n",
    "df.columns = df.columns.map(lambda col: col.lower().strip())\n",
    "df.columns = df.columns.map(lambda col: col.replace(\" \", \"_\"))\n",
    "df.loc[df['user_score']=='tbd', 'user_score'] = None\n",
    "df['user_score'] = df['user_score'].astype(float)\n",
    "\n",
    "df.loc[df['year_of_release']==None, 'year_of_release'] = 0\n",
    "df['year_of_release'] = df['year_of_release'].fillna(0).astype(int)\n",
    "df['year_of_release'] = df['year_of_release'].astype(int)\n",
    "df.to_"
   ]
  },
  {
   "cell_type": "code",
   "execution_count": null,
   "metadata": {},
   "outputs": [],
   "source": []
  }
 ],
 "metadata": {
  "kernelspec": {
   "display_name": "Python [conda env:base] *",
   "language": "python",
   "name": "conda-base-py"
  },
  "language_info": {
   "codemirror_mode": {
    "name": "ipython",
    "version": 3
   },
   "file_extension": ".py",
   "mimetype": "text/x-python",
   "name": "python",
   "nbconvert_exporter": "python",
   "pygments_lexer": "ipython3",
   "version": "3.12.7"
  }
 },
 "nbformat": 4,
 "nbformat_minor": 4
}
